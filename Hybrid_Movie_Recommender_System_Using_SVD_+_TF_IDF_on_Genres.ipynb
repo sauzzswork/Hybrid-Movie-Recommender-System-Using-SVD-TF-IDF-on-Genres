{
  "nbformat": 4,
  "nbformat_minor": 0,
  "metadata": {
    "colab": {
      "provenance": []
    },
    "kernelspec": {
      "name": "python3",
      "display_name": "Python 3"
    },
    "language_info": {
      "name": "python"
    }
  },
  "cells": [
    {
      "cell_type": "code",
      "execution_count": 1,
      "metadata": {
        "colab": {
          "base_uri": "https://localhost:8080/"
        },
        "id": "aNJp6QVCrKVF",
        "outputId": "17ed9e59-b7f1-46bb-e73e-7b42f9623f39"
      },
      "outputs": [
        {
          "output_type": "stream",
          "name": "stdout",
          "text": [
            "Mounted at /content/drive\n"
          ]
        }
      ],
      "source": [
        "\n",
        "from google.colab import drive\n",
        "drive.mount('/content/drive')\n"
      ]
    },
    {
      "cell_type": "code",
      "source": [
        "# Step 1: Install Dependencies (Surprise Library)\n",
        "!pip install scikit-surprise"
      ],
      "metadata": {
        "colab": {
          "base_uri": "https://localhost:8080/"
        },
        "id": "xRO9uLlkr70W",
        "outputId": "537a0e0e-0f24-488a-8795-a2b664129d4f"
      },
      "execution_count": 2,
      "outputs": [
        {
          "output_type": "stream",
          "name": "stdout",
          "text": [
            "Collecting scikit-surprise\n",
            "  Downloading scikit_surprise-1.1.4.tar.gz (154 kB)\n",
            "\u001b[?25l     \u001b[90m━━━━━━━━━━━━━━━━━━━━━━━━━━━━━━━━━━━━━━━━\u001b[0m \u001b[32m0.0/154.4 kB\u001b[0m \u001b[31m?\u001b[0m eta \u001b[36m-:--:--\u001b[0m\r\u001b[2K     \u001b[91m━━━━━━━━━━━━━━━━━━━━━━━━━━━━━━━\u001b[0m\u001b[90m╺\u001b[0m\u001b[90m━━━━━━━\u001b[0m \u001b[32m122.9/154.4 kB\u001b[0m \u001b[31m4.3 MB/s\u001b[0m eta \u001b[36m0:00:01\u001b[0m\r\u001b[2K     \u001b[90m━━━━━━━━━━━━━━━━━━━━━━━━━━━━━━━━━━━━━━━\u001b[0m \u001b[32m154.4/154.4 kB\u001b[0m \u001b[31m3.2 MB/s\u001b[0m eta \u001b[36m0:00:00\u001b[0m\n",
            "\u001b[?25h  Installing build dependencies ... \u001b[?25l\u001b[?25hdone\n",
            "  Getting requirements to build wheel ... \u001b[?25l\u001b[?25hdone\n",
            "  Preparing metadata (pyproject.toml) ... \u001b[?25l\u001b[?25hdone\n",
            "Requirement already satisfied: joblib>=1.2.0 in /usr/local/lib/python3.11/dist-packages (from scikit-surprise) (1.5.1)\n",
            "Requirement already satisfied: numpy>=1.19.5 in /usr/local/lib/python3.11/dist-packages (from scikit-surprise) (2.0.2)\n",
            "Requirement already satisfied: scipy>=1.6.0 in /usr/local/lib/python3.11/dist-packages (from scikit-surprise) (1.15.3)\n",
            "Building wheels for collected packages: scikit-surprise\n",
            "  Building wheel for scikit-surprise (pyproject.toml) ... \u001b[?25l\u001b[?25hdone\n",
            "  Created wheel for scikit-surprise: filename=scikit_surprise-1.1.4-cp311-cp311-linux_x86_64.whl size=2469538 sha256=159a1716a96376881b0eef3b96d50d9ec97b1b5efb186b65f42c6c6c18909c2f\n",
            "  Stored in directory: /root/.cache/pip/wheels/2a/8f/6e/7e2899163e2d85d8266daab4aa1cdabec7a6c56f83c015b5af\n",
            "Successfully built scikit-surprise\n",
            "Installing collected packages: scikit-surprise\n",
            "Successfully installed scikit-surprise-1.1.4\n"
          ]
        }
      ]
    },
    {
      "cell_type": "code",
      "source": [
        "# Step 2: Imports\n",
        "import pandas as pd\n",
        "import numpy as np\n",
        "from surprise import Dataset, Reader, SVD\n",
        "from surprise.model_selection import train_test_split\n",
        "from sklearn.feature_extraction.text import TfidfVectorizer\n",
        "from sklearn.metrics.pairwise import linear_kernel"
      ],
      "metadata": {
        "id": "rZj1MJbSsVXS"
      },
      "execution_count": 8,
      "outputs": []
    },
    {
      "cell_type": "code",
      "source": [
        "# Step 1: Uninstall both (clean slate)\n",
        "!pip uninstall -y numpy scikit-surprise\n",
        "\n",
        "# Step 2: Reinstall numpy first (compatible)\n",
        "!pip install numpy==1.24.4\n",
        "\n",
        "# Step 3: Then reinstall scikit-surprise\n",
        "!pip install scikit-surprise\n"
      ],
      "metadata": {
        "colab": {
          "base_uri": "https://localhost:8080/",
          "height": 599
        },
        "id": "NKljqh_esnwG",
        "outputId": "696e6a15-757c-473c-a08b-6330d293780a"
      },
      "execution_count": 4,
      "outputs": [
        {
          "output_type": "stream",
          "name": "stdout",
          "text": [
            "Found existing installation: numpy 2.0.2\n",
            "Uninstalling numpy-2.0.2:\n",
            "  Successfully uninstalled numpy-2.0.2\n",
            "Found existing installation: scikit-surprise 1.1.4\n",
            "Uninstalling scikit-surprise-1.1.4:\n",
            "  Successfully uninstalled scikit-surprise-1.1.4\n",
            "Collecting numpy==1.24.4\n",
            "  Downloading numpy-1.24.4-cp311-cp311-manylinux_2_17_x86_64.manylinux2014_x86_64.whl.metadata (5.6 kB)\n",
            "Downloading numpy-1.24.4-cp311-cp311-manylinux_2_17_x86_64.manylinux2014_x86_64.whl (17.3 MB)\n",
            "\u001b[2K   \u001b[90m━━━━━━━━━━━━━━━━━━━━━━━━━━━━━━━━━━━━━━━━\u001b[0m \u001b[32m17.3/17.3 MB\u001b[0m \u001b[31m126.5 MB/s\u001b[0m eta \u001b[36m0:00:00\u001b[0m\n",
            "\u001b[?25hInstalling collected packages: numpy\n",
            "\u001b[31mERROR: pip's dependency resolver does not currently take into account all the packages that are installed. This behaviour is the source of the following dependency conflicts.\n",
            "thinc 8.3.6 requires numpy<3.0.0,>=2.0.0, but you have numpy 1.24.4 which is incompatible.\n",
            "xarray-einstats 0.9.1 requires numpy>=1.25, but you have numpy 1.24.4 which is incompatible.\n",
            "pymc 5.23.0 requires numpy>=1.25.0, but you have numpy 1.24.4 which is incompatible.\n",
            "treescope 0.1.9 requires numpy>=1.25.2, but you have numpy 1.24.4 which is incompatible.\n",
            "tensorflow 2.18.0 requires numpy<2.1.0,>=1.26.0, but you have numpy 1.24.4 which is incompatible.\n",
            "blosc2 3.4.0 requires numpy>=1.26, but you have numpy 1.24.4 which is incompatible.\n",
            "jax 0.5.2 requires numpy>=1.25, but you have numpy 1.24.4 which is incompatible.\n",
            "jaxlib 0.5.1 requires numpy>=1.25, but you have numpy 1.24.4 which is incompatible.\u001b[0m\u001b[31m\n",
            "\u001b[0mSuccessfully installed numpy-1.24.4\n"
          ]
        },
        {
          "output_type": "display_data",
          "data": {
            "application/vnd.colab-display-data+json": {
              "pip_warning": {
                "packages": [
                  "numpy"
                ]
              },
              "id": "d7fc0a6131c648179c6674fa02df6732"
            }
          },
          "metadata": {}
        },
        {
          "output_type": "stream",
          "name": "stdout",
          "text": [
            "Collecting scikit-surprise\n",
            "  Using cached scikit_surprise-1.1.4-cp311-cp311-linux_x86_64.whl\n",
            "Requirement already satisfied: joblib>=1.2.0 in /usr/local/lib/python3.11/dist-packages (from scikit-surprise) (1.5.1)\n",
            "Requirement already satisfied: numpy>=1.19.5 in /usr/local/lib/python3.11/dist-packages (from scikit-surprise) (1.24.4)\n",
            "Requirement already satisfied: scipy>=1.6.0 in /usr/local/lib/python3.11/dist-packages (from scikit-surprise) (1.15.3)\n",
            "Installing collected packages: scikit-surprise\n",
            "Successfully installed scikit-surprise-1.1.4\n"
          ]
        }
      ]
    },
    {
      "cell_type": "code",
      "source": [
        "from surprise import Dataset, Reader, SVD\n",
        "from surprise.model_selection import train_test_split\n"
      ],
      "metadata": {
        "id": "OAqqCs2nsy8v"
      },
      "execution_count": 1,
      "outputs": []
    },
    {
      "cell_type": "code",
      "source": [
        "# Step 3: Load Data (Adjust path as needed if using Google Drive)\n",
        "import pandas as pd\n",
        "\n",
        "# **IMPORTANT**: Replace '/content/drive/My Drive/ml-1m/' with the actual path to your 'ml-1m' folder in Google Drive\n",
        "drive_path = '/content/drive/My Drive/ml-1m/'\n",
        "\n",
        "movies = pd.read_csv(drive_path + 'movies.dat', sep='::', engine='python',\n",
        "                     names=['movieId', 'title', 'genres'], encoding='latin-1')\n",
        "ratings = pd.read_csv(drive_path + 'ratings.dat', sep='::', engine='python',\n",
        "                      names=['userId', 'movieId', 'rating', 'timestamp'], encoding='latin-1')"
      ],
      "metadata": {
        "id": "WCW_nsRhs057"
      },
      "execution_count": 5,
      "outputs": []
    },
    {
      "cell_type": "code",
      "source": [
        "# Step 4: Train SVD Collaborative Filtering Model\n",
        "reader = Reader(rating_scale=(0.5, 5.0))\n",
        "data = Dataset.load_from_df(ratings[['userId', 'movieId', 'rating']], reader)\n",
        "trainset, testset = train_test_split(data, test_size=0.2)\n",
        "model = SVD()\n",
        "model.fit(trainset)\n"
      ],
      "metadata": {
        "colab": {
          "base_uri": "https://localhost:8080/"
        },
        "id": "KxEqKQNhtOJx",
        "outputId": "bd62e9d5-29ca-417c-a613-e6a88dc8ee00"
      },
      "execution_count": 6,
      "outputs": [
        {
          "output_type": "execute_result",
          "data": {
            "text/plain": [
              "<surprise.prediction_algorithms.matrix_factorization.SVD at 0x7e757b890f10>"
            ]
          },
          "metadata": {},
          "execution_count": 6
        }
      ]
    },
    {
      "cell_type": "code",
      "source": [
        "# Step 5: Build Content-Based Filtering with TF-IDF on Genres\n",
        "movies['genres_clean'] = movies['genres'].str.replace('|', ' ', regex=False)\n",
        "tfidf = TfidfVectorizer(stop_words='english')\n",
        "tfidf_matrix = tfidf.fit_transform(movies['genres_clean'])\n",
        "genre_sim = linear_kernel(tfidf_matrix, tfidf_matrix)  # cosine similarity"
      ],
      "metadata": {
        "id": "ZU5p-JAytWlI"
      },
      "execution_count": 9,
      "outputs": []
    },
    {
      "cell_type": "code",
      "source": [
        "# Step 6: Hybrid Recommendation Function\n",
        "def hybrid_recommend(user_id, top_n=5, alpha=0.6):\n",
        "    movie_ids = movies['movieId'].tolist()\n",
        "    svd_scores = []\n",
        "\n",
        "    for movie_id in movie_ids:\n",
        "        try:\n",
        "            score = model.predict(user_id, movie_id).est\n",
        "            svd_scores.append(score)\n",
        "        except:\n",
        "            svd_scores.append(0)\n",
        "\n",
        "    svd_scores = np.array(svd_scores)\n",
        "\n",
        "    user_rated = ratings[ratings.userId == user_id].sort_values(by='rating', ascending=False)\n",
        "    if user_rated.empty:\n",
        "        content_scores = np.zeros(len(movies))\n",
        "    else:\n",
        "        top_movie_index = movies[movies.movieId == user_rated.iloc[0]['movieId']].index[0]\n",
        "        content_scores = genre_sim[top_movie_index]\n",
        "\n",
        "    final_score = alpha * svd_scores + (1 - alpha) * content_scores\n",
        "    top_indices = final_score.argsort()[-top_n:][::-1]\n",
        "\n",
        "    return movies.iloc[top_indices][['title', 'genres']]"
      ],
      "metadata": {
        "id": "Dk0zHuVHtrsq"
      },
      "execution_count": 10,
      "outputs": []
    },
    {
      "cell_type": "code",
      "source": [
        "# Step 7: Test the Hybrid Recommender\n",
        "user_to_test = 100\n",
        "print(f\"\\n🔮 Top Movie Recommendations for User {user_to_test} (Hybrid SVD + Genres):\")\n",
        "print(hybrid_recommend(user_to_test, top_n=7))"
      ],
      "metadata": {
        "colab": {
          "base_uri": "https://localhost:8080/"
        },
        "id": "pZl7Nl9Ntw_s",
        "outputId": "3de99672-f93f-45d8-f984-a337584610b6"
      },
      "execution_count": 11,
      "outputs": [
        {
          "output_type": "stream",
          "name": "stdout",
          "text": [
            "\n",
            "🔮 Top Movie Recommendations for User 100 (Hybrid SVD + Genres):\n",
            "                                                  title  \\\n",
            "892                                  Rear Window (1954)   \n",
            "1194                              Third Man, The (1949)   \n",
            "2139                          Lady Vanishes, The (1938)   \n",
            "941                        It's a Wonderful Life (1946)   \n",
            "3732                         Anatomy of a Murder (1959)   \n",
            "938                                Thin Man, The (1934)   \n",
            "1950  Seven Samurai (The Magnificent Seven) (Shichin...   \n",
            "\n",
            "                               genres  \n",
            "892                  Mystery|Thriller  \n",
            "1194                 Mystery|Thriller  \n",
            "2139  Comedy|Mystery|Romance|Thriller  \n",
            "941                             Drama  \n",
            "3732                    Drama|Mystery  \n",
            "938                           Mystery  \n",
            "1950                     Action|Drama  \n"
          ]
        }
      ]
    },
    {
      "cell_type": "code",
      "source": [
        "# Step 8: Explainable Output\n",
        "\n",
        "def explain_recommendation(user_id, top_n=5):\n",
        "    recommendations = hybrid_recommend(user_id, top_n)\n",
        "    user_history = ratings[ratings.userId == user_id].sort_values(by='rating', ascending=False)\n",
        "    top_movie_id = user_history.iloc[0]['movieId']\n",
        "    top_movie_title = movies[movies.movieId == top_movie_id]['title'].values[0]\n",
        "    reason = f\"Because you liked '{top_movie_title}', which shares similar genres.\"\n",
        "    print(\"\\n📢 Explanation for Recommendations:\")\n",
        "    print(reason)\n",
        "    print(\"\\nTop Recommendations:\")\n",
        "    print(recommendations)\n"
      ],
      "metadata": {
        "id": "7VBSDOdbu0IY"
      },
      "execution_count": 12,
      "outputs": []
    },
    {
      "cell_type": "code",
      "source": [
        "# Test with explanation\n",
        "explain_recommendation(100, top_n=5)"
      ],
      "metadata": {
        "colab": {
          "base_uri": "https://localhost:8080/"
        },
        "id": "yxT7pQR0u2OY",
        "outputId": "789969f1-2e1c-402d-c6c9-f6650d287d7c"
      },
      "execution_count": 13,
      "outputs": [
        {
          "output_type": "stream",
          "name": "stdout",
          "text": [
            "\n",
            "📢 Explanation for Recommendations:\n",
            "Because you liked 'Lone Star (1996)', which shares similar genres.\n",
            "\n",
            "Top Recommendations:\n",
            "                             title                           genres\n",
            "892             Rear Window (1954)                 Mystery|Thriller\n",
            "1194         Third Man, The (1949)                 Mystery|Thriller\n",
            "2139     Lady Vanishes, The (1938)  Comedy|Mystery|Romance|Thriller\n",
            "941   It's a Wonderful Life (1946)                            Drama\n",
            "3732    Anatomy of a Murder (1959)                    Drama|Mystery\n"
          ]
        }
      ]
    },
    {
      "cell_type": "code",
      "source": [
        "# Step 9: Evaluation - RMSE on test set\n",
        "from surprise import accuracy\n",
        "predictions = model.test(testset)\n",
        "rmse = accuracy.rmse(predictions)\n",
        "print(\"\\nModel Evaluation:\\nRoot Mean Squared Error (RMSE):\", rmse)"
      ],
      "metadata": {
        "colab": {
          "base_uri": "https://localhost:8080/"
        },
        "id": "dCz2cqoqu6sz",
        "outputId": "4f0e2291-882b-45d1-83ea-c11d80f73cb6"
      },
      "execution_count": 14,
      "outputs": [
        {
          "output_type": "stream",
          "name": "stdout",
          "text": [
            "RMSE: 0.8736\n",
            "\n",
            "Model Evaluation:\n",
            "Root Mean Squared Error (RMSE): 0.8735813970721767\n"
          ]
        }
      ]
    },
    {
      "cell_type": "code",
      "source": [
        "# Step 10: Optional - Save Model & Load Later (Using Pickle)\n",
        "import pickle\n",
        "\n",
        "# Save model\n",
        "with open('svd_model.pkl', 'wb') as f:\n",
        "    pickle.dump(model, f)"
      ],
      "metadata": {
        "id": "QkrxXdVhu_EG"
      },
      "execution_count": 15,
      "outputs": []
    },
    {
      "cell_type": "code",
      "source": [
        "# Step 11: Optional - Recommend Based on Mood\n",
        "mood_genre_map = {\n",
        "    'happy': ['Comedy', 'Romance', \"Animation\"],\n",
        "    'sad': ['Drama', 'Film-Noir'],\n",
        "    'excited': ['Action', 'Thriller'],\n",
        "    'relaxed': ['Documentary', 'Music']\n",
        "}\n"
      ],
      "metadata": {
        "id": "X4--fEkwva3a"
      },
      "execution_count": 16,
      "outputs": []
    },
    {
      "cell_type": "code",
      "source": [
        "def recommend_by_mood(mood, top_n=5):\n",
        "    genres = mood_genre_map.get(mood.lower(), [])\n",
        "    matches = movies[movies['genres'].apply(lambda g: any(genre in g for genre in genres))]\n",
        "    return matches[['title', 'genres']].sample(n=min(top_n, len(matches)))\n",
        "\n",
        "print(\"\\n🎭 Mood-Based Recommendations (Mood: Excited):\")\n",
        "print(recommend_by_mood(\"excited\", top_n=5))"
      ],
      "metadata": {
        "colab": {
          "base_uri": "https://localhost:8080/"
        },
        "id": "WDwGEEVmvcke",
        "outputId": "abbd3330-383a-4a2e-bc8f-6c4791a3b942"
      },
      "execution_count": 17,
      "outputs": [
        {
          "output_type": "stream",
          "name": "stdout",
          "text": [
            "\n",
            "🎭 Mood-Based Recommendations (Mood: Excited):\n",
            "                                        title                   genres\n",
            "983                  Last Man Standing (1996)     Action|Drama|Western\n",
            "2251                         Apt Pupil (1998)           Drama|Thriller\n",
            "671   Some Folks Call It a Sling Blade (1993)           Drama|Thriller\n",
            "2150                           Murder! (1930)         Mystery|Thriller\n",
            "3204                          Scream 3 (2000)  Horror|Mystery|Thriller\n"
          ]
        }
      ]
    },
    {
      "cell_type": "code",
      "source": [],
      "metadata": {
        "id": "jzpTF2Dzvj9A"
      },
      "execution_count": null,
      "outputs": []
    }
  ]
}